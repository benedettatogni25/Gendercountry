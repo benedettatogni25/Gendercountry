{
 "cells": [
  {
   "cell_type": "markdown",
   "id": "eastern-phoenix",
   "metadata": {},
   "source": [
    "# Setup"
   ]
  },
  {
   "cell_type": "code",
   "execution_count": 1,
   "id": "eleven-modern",
   "metadata": {},
   "outputs": [
    {
     "data": {
      "text/plain": [
       "{'man': 'Q6581072', 'woman': 'Q6581097'}"
      ]
     },
     "execution_count": 1,
     "metadata": {},
     "output_type": "execute_result"
    }
   ],
   "source": [
    "from SPARQLWrapper import SPARQLWrapper, JSON\n",
    "import ssl\n",
    "import pprint as pp\n",
    "import pandas as pd\n",
    "import seaborn as sns\n",
    "\n",
    "ssl._create_default_https_context = ssl._create_unverified_context\n",
    "\n",
    "wikidata_endpoint = \"https://query.wikidata.org/bigdata/namespace/wdq/sparql\"\n",
    "sex_code = {\"woman\": \"Q6581072\",\n",
    "            \"man\": \"Q6581097\"}\n",
    "sex_code"
   ]
  },
  {
   "cell_type": "code",
   "execution_count": 2,
   "id": "pressed-albuquerque",
   "metadata": {},
   "outputs": [],
   "source": [
    "def sample_for_country(result, sex, subject):\n",
    "    \"\"\"\n",
    "    * result: result of the query\n",
    "    * sex: \"man\" or \"woman\" -> select the field \"totman\" or \"totwoman\"\n",
    "    * subject: label of interest (example: placeofbirthLabel/educatedatLabel)\n",
    "    \"\"\"\n",
    "    #if verbose: print(result) # <---------------- emergency debug\n",
    "    country_info = {}\n",
    "    for person in result:\n",
    "        subject_field = person[subject][\"value\"]\n",
    "\n",
    "        country = person[\"countryLabel\"][\"value\"]\n",
    "        n_birth = person[f\"tot{sex}\"][\"value\"]\n",
    "\n",
    "        if country not in country_info:\n",
    "            country_info[country] = []\n",
    "        country_info[country].append((subject_field, n_birth))\n",
    "\n",
    "    \n",
    "    tot_pp_per_country = {}\n",
    "    for country in country_info:\n",
    "        total_birth_per_country = sum([int(n) for _,n in country_info[country]])\n",
    "        tot_pp_per_country[country] = total_birth_per_country\n",
    "        \n",
    "    \n",
    "    return tot_pp_per_country\n",
    "\n",
    "\n",
    "\n",
    "\n",
    "def get_top_sample_by_women(all_countries, women_sample, men_sample, top=10):\n",
    "    total = []\n",
    "    for country in all_countries:\n",
    "\n",
    "        tot_w = 0\n",
    "        tot_m = 0 \n",
    "\n",
    "        if country in women_sample: \n",
    "            tot_w = women_sample[country]\n",
    "\n",
    "        if country in men_sample: \n",
    "            tot_m = men_sample[country]\n",
    "\n",
    "        total.append((country, tot_w, tot_m))\n",
    "\n",
    "    top_on_women = [(w,m,c) for c,w,m in total]\n",
    "    top_on_women.sort(reverse=True)\n",
    "    top_on_women = top_on_women[:top]\n",
    "    top_on_women = {c:{\"women\":w, \"men\":m} for w,m,c in top_on_women}\n",
    "\n",
    "    return top_on_women\n",
    "\n",
    "\n",
    "def get_women_man_differences(womenResults, manResults, label):\n",
    "    \"\"\"\n",
    "    Given a result of two sparql querys (for woman and for men), \n",
    "    retrieve the differences by sex according to a specific label\n",
    "    \"\"\"\n",
    "    women_data = sample_for_country(womenResults, \n",
    "                                   sex=\"women\", \n",
    "                                   subject=label)\n",
    "\n",
    "    men_data = sample_for_country(manResults, \n",
    "                                 sex=\"men\", \n",
    "                                 subject=label)\n",
    "\n",
    "    countries_of_data = set(women_data.keys()).union(set(men_data.keys()))\n",
    "    print(\"women:\\t\", len(women_data), \"\\nmen:\\t\", len(men_data), \"\\nunion:\\t\", len(countries_of_data))\n",
    "\n",
    "    data_dict = get_top_sample_by_women(countries_of_data, women_data, men_data)\n",
    "    df = pd.DataFrame.from_dict(data_dict, orient=\"index\").plot.bar()\n",
    "    return data_dict\n",
    "\n",
    "\n",
    "def execute_query(query):\n",
    "    sparql_wd = SPARQLWrapper(wikidata_endpoint, agent='Mozilla/5.0 (Windows NT 6.1; Win64; x64; rv:47.0) AppleWebKit/537.36 (KHTML, like Gecko) Chrome/50.0.2661.102 Safari/537.36')\n",
    "    sparql_wd.setQuery(query)\n",
    "    sparql_wd.setReturnFormat(JSON)\n",
    "    result = sparql_wd.query().convert()\n",
    "    return result[\"results\"][\"bindings\"]\n"
   ]
  },
  {
   "cell_type": "markdown",
   "id": "found-optimization",
   "metadata": {},
   "source": [
    "# Place of birth"
   ]
  },
  {
   "cell_type": "code",
   "execution_count": 3,
   "id": "complimentary-handy",
   "metadata": {},
   "outputs": [],
   "source": [
    "fembirthplace_query = \"\"\"\n",
    "PREFIX wd: <http://www.wikidata.org/entity/>\n",
    "PREFIX wdt: <http://www.wikidata.org/prop/direct/>\n",
    "PREFIX wikibase: <http://wikiba.se/ontology#>\n",
    "SELECT DISTINCT ?placeofbirth ?placeofbirthLabel ?countryLabel (COUNT(?person) AS ?totwomen)\n",
    "WHERE\n",
    "{\n",
    "       ?person wdt:P31 wd:Q5 ;\n",
    "            wdt:P21 wd:Q6581072 ;\n",
    "            wdt:P106/wdt:P279* wd:Q1792450; \n",
    "            wdt:P19 ?placeofbirth.\n",
    "           ?placeofbirth wdt:P17 ?country.\n",
    "        ?country wdt:P297 ?countryCode.\n",
    "       \n",
    "       SERVICE wikibase:label {bd:serviceParam wikibase:language \"en\" }\n",
    "}\n",
    "GROUP BY ?placeofbirth ?placeofbirthLabel ?countryLabel\n",
    "ORDER BY DESC(?totwomen)\n",
    "\"\"\"\n",
    "\n",
    "menbirthplace_query = \"\"\"\n",
    "PREFIX wd: <http://www.wikidata.org/entity/>\n",
    "PREFIX wdt: <http://www.wikidata.org/prop/direct/>\n",
    "PREFIX wikibase: <http://wikiba.se/ontology#>\n",
    "SELECT DISTINCT ?placeofbirth ?placeofbirthLabel ?countryLabel (COUNT(?person) AS ?totmen)\n",
    "WHERE\n",
    "{\n",
    "       ?person wdt:P31 wd:Q5 ;\n",
    "            wdt:P21 wd:Q6581097 ;\n",
    "            wdt:P106/wdt:P279* wd:Q1792450; \n",
    "            wdt:P19 ?placeofbirth.\n",
    "           ?placeofbirth wdt:P17 ?country.\n",
    "       \n",
    "       SERVICE wikibase:label {bd:serviceParam wikibase:language \"en\" }\n",
    "}\n",
    "GROUP BY ?placeofbirth ?placeofbirthLabel ?countryLabel\n",
    "ORDER BY DESC(?totmen)\n",
    "\"\"\"\n",
    "\n",
    "\n",
    "womenbirthplacesResults = execute_query(fembirthplace_query)\n",
    "menbirthplacesResults = execute_query(menbirthplace_query)"
   ]
  },
  {
   "cell_type": "code",
   "execution_count": 4,
   "id": "employed-memorial",
   "metadata": {},
   "outputs": [
    {
     "name": "stdout",
     "output_type": "stream",
     "text": [
      "women:\t 82 \n",
      "men:\t 139 \n",
      "union:\t 147\n"
     ]
    },
    {
     "data": {
      "text/plain": [
       "{'Germany': {'women': 560, 'men': 2242},\n",
       " 'Czech Republic': {'women': 422, 'men': 785},\n",
       " 'United States of America': {'women': 171, 'men': 336},\n",
       " 'Italy': {'women': 123, 'men': 531},\n",
       " 'Spain': {'women': 122, 'men': 199},\n",
       " 'Austria': {'women': 106, 'men': 300},\n",
       " 'France': {'women': 99, 'men': 624},\n",
       " 'Poland': {'women': 99, 'men': 369},\n",
       " 'Russia': {'women': 96, 'men': 215},\n",
       " 'Ukraine': {'women': 74, 'men': 178}}"
      ]
     },
     "execution_count": 4,
     "metadata": {},
     "output_type": "execute_result"
    },
    {
     "data": {
      "image/png": "[encoded data removed]",
      "text/plain": [
       "<Figure size 432x288 with 1 Axes>"
      ]
     },
     "metadata": {
      "needs_background": "light"
     },
     "output_type": "display_data"
    }
   ],
   "source": [
    "get_women_man_differences(womenResults = womenbirthplacesResults, \n",
    "                          manResults = menbirthplacesResults, \n",
    "                          label = \"placeofbirthLabel\")"
   ]
  },
  {
   "cell_type": "markdown",
   "id": "introductory-order",
   "metadata": {},
   "source": [
    "# Education"
   ]
  },
  {
   "cell_type": "code",
   "execution_count": 5,
   "id": "italian-procedure",
   "metadata": {},
   "outputs": [],
   "source": [
    "educationfem_query = \"\"\"\n",
    "PREFIX wd: <http://www.wikidata.org/entity/>\n",
    "PREFIX wdt: <http://www.wikidata.org/prop/direct/>\n",
    "PREFIX wikibase: <http://wikiba.se/ontology#>\n",
    "SELECT DISTINCT ?educatedatLabel ?countryLabel  (COUNT(?person) AS ?totwomen)\n",
    "\n",
    "WHERE\n",
    "{\n",
    "       ?person wdt:P31 wd:Q5 ;\n",
    "            wdt:P21 wd:Q6581072 ;\n",
    "            wdt:P106/wdt:P279* wd:Q1792450;\n",
    "            wdt:P69 ?educatedat;\n",
    "            wdt:P27 ?country.\n",
    "  SERVICE wikibase:label { \n",
    "    bd:serviceParam wikibase:language \"[AUTO_LANGUAGE],en\". \n",
    "    ?educatedat rdfs:label ?educatedatLabel .\n",
    "    ?country     rdfs:label ?countryLabel .\n",
    "  \n",
    "  }\n",
    "\n",
    "       \n",
    "}\n",
    "GROUP BY ?educatedatLabel ?countryLabel\n",
    "ORDER BY DESC(?totwomen)\n",
    "\"\"\"\n",
    "\n",
    "\n",
    "eduplaceman_query = \"\"\"\n",
    "PREFIX wd: <http://www.wikidata.org/entity/>\n",
    "PREFIX wdt: <http://www.wikidata.org/prop/direct/>\n",
    "PREFIX wikibase: <http://wikiba.se/ontology#>\n",
    "SELECT DISTINCT ?educatedatLabel ?countryLabel  (COUNT(?person) AS ?totmen)\n",
    "\n",
    "WHERE\n",
    "{\n",
    "       ?person wdt:P31 wd:Q5 ;\n",
    "            wdt:P21 wd:Q6581097 ;\n",
    "            wdt:P106/wdt:P279* wd:Q1792450;\n",
    "            wdt:P69 ?educatedat;\n",
    "            wdt:P27 ?country.\n",
    "  SERVICE wikibase:label { \n",
    "    bd:serviceParam wikibase:language \"[AUTO_LANGUAGE],en\". \n",
    "    ?educatedat rdfs:label ?educatedatLabel .\n",
    "    ?country     rdfs:label ?countryLabel .\n",
    "  \n",
    "  }\n",
    "\n",
    "       \n",
    "}\n",
    "GROUP BY ?educatedatLabel ?countryLabel\n",
    "ORDER BY DESC(?totmen)\n",
    "\"\"\"\n",
    "\n",
    "\n",
    "educationfemResults = execute_query(educationfem_query)\n",
    "educationmanResults = execute_query(eduplaceman_query)"
   ]
  },
  {
   "cell_type": "code",
   "execution_count": 6,
   "id": "relevant-consortium",
   "metadata": {},
   "outputs": [
    {
     "name": "stdout",
     "output_type": "stream",
     "text": [
      "women:\t 87 \n",
      "men:\t 129 \n",
      "union:\t 149\n"
     ]
    },
    {
     "data": {
      "text/plain": [
       "{'United States of America': {'women': 487, 'men': 684},\n",
       " 'France': {'women': 143, 'men': 446},\n",
       " 'Germany': {'women': 125, 'men': 519},\n",
       " 'Spain': {'women': 123, 'men': 147},\n",
       " 'United Kingdom': {'women': 108, 'men': 440},\n",
       " 'Soviet Union': {'women': 105, 'men': 216},\n",
       " 'Poland': {'women': 90, 'men': 196},\n",
       " 'Russia': {'women': 66, 'men': 95},\n",
       " 'Canada': {'women': 49, 'men': 57},\n",
       " 'Italy': {'women': 42, 'men': 135}}"
      ]
     },
     "execution_count": 6,
     "metadata": {},
     "output_type": "execute_result"
    },
    {
     "data": {
      "image/png": "[encoded data removed]",
      "text/plain": [
       "<Figure size 432x288 with 1 Axes>"
      ]
     },
     "metadata": {
      "needs_background": "light"
     },
     "output_type": "display_data"
    }
   ],
   "source": [
    "get_women_man_differences(womenResults = educationfemResults,\n",
    "                          manResults = educationmanResults,\n",
    "                          label = \"educatedatLabel\")"
   ]
  },
  {
   "cell_type": "markdown",
   "id": "ancient-sailing",
   "metadata": {},
   "source": [
    "# Citizenship"
   ]
  },
  {
   "cell_type": "code",
   "execution_count": 7,
   "id": "ordinary-spotlight",
   "metadata": {},
   "outputs": [],
   "source": [
    "countryfem_query= \"\"\"\n",
    "PREFIX wd: <http://www.wikidata.org/entity/>\n",
    "PREFIX wdt: <http://www.wikidata.org/prop/direct/>\n",
    "PREFIX wikibase: <http://wikiba.se/ontology#>\n",
    "SELECT DISTINCT ?countryLabel ?citizenshipLabel (COUNT(?person) AS ?totwomen)\n",
    "WHERE\n",
    "{\n",
    "       ?person wdt:P31 wd:Q5 ;\n",
    "            wdt:P21 wd:Q6581072;\n",
    "            wdt:P106/wdt:P279* wd:Q1792450;\n",
    "            wdt:P27 ?citizenship.\n",
    "       \n",
    "       ?citizenship wdt:P297 ?countryLabel.\n",
    "       SERVICE wikibase:label {bd:serviceParam wikibase:language \"en\" }\n",
    "}\n",
    "GROUP BY ?countryLabel ?citizenshipLabel\n",
    "ORDER BY DESC(?totwomen)\n",
    "\"\"\"\n",
    "\n",
    "\n",
    "\n",
    "countrymen_query = \"\"\"\n",
    "PREFIX wd: <http://www.wikidata.org/entity/>\n",
    "PREFIX wdt: <http://www.wikidata.org/prop/direct/>\n",
    "PREFIX wikibase: <http://wikiba.se/ontology#>\n",
    "SELECT DISTINCT ?countryLabel ?citizenshipLabel (COUNT(?person) AS ?totmen)\n",
    "WHERE\n",
    "{\n",
    "       ?person wdt:P31 wd:Q5 ;\n",
    "            wdt:P21 wd:Q6581097;\n",
    "            wdt:P106/wdt:P279* wd:Q1792450;\n",
    "            wdt:P27 ?citizenship.\n",
    "       \n",
    "       ?citizenship wdt:P297 ?countryLabel.\n",
    "       SERVICE wikibase:label {bd:serviceParam wikibase:language \"en\" }\n",
    "}\n",
    "GROUP BY ?countryLabel ?citizenshipLabel\n",
    "ORDER BY DESC(?totmen)\n",
    "\"\"\"\n",
    "\n",
    "\n",
    "femcountryResults = execute_query(countryfem_query)\n",
    "mencountryResults = execute_query(countrymen_query)"
   ]
  },
  {
   "cell_type": "code",
   "execution_count": 8,
   "id": "ordered-yellow",
   "metadata": {},
   "outputs": [
    {
     "name": "stdout",
     "output_type": "stream",
     "text": [
      "women:\t 76 \n",
      "men:\t 68 \n",
      "union:\t 86\n"
     ]
    },
    {
     "data": {
      "text/plain": [
       "{'DE': {'women': 474, 'men': 1887},\n",
       " 'US': {'women': 361, 'men': 595},\n",
       " 'FR': {'women': 202, 'men': 776},\n",
       " 'IT': {'women': 161, 'men': 364},\n",
       " 'ES': {'women': 154, 'men': 241},\n",
       " 'SI': {'women': 136, 'men': 102},\n",
       " 'PL': {'women': 123, 'men': 260},\n",
       " 'GB': {'women': 111, 'men': 391},\n",
       " 'AT': {'women': 103, 'men': 340},\n",
       " 'RU': {'women': 81, 'men': 102}}"
      ]
     },
     "execution_count": 8,
     "metadata": {},
     "output_type": "execute_result"
    },
    {
     "data": {
      "image/png": "[encoded data removed]",
      "text/plain": [
       "<Figure size 432x288 with 1 Axes>"
      ]
     },
     "metadata": {
      "needs_background": "light"
     },
     "output_type": "display_data"
    }
   ],
   "source": [
    "get_women_man_differences(womenResults = femcountryResults,\n",
    "                          manResults = mencountryResults,\n",
    "                          label = \"citizenshipLabel\")"
   ]
  },
  {
   "cell_type": "markdown",
   "id": "collaborative-bulgaria",
   "metadata": {},
   "source": [
    "# workplace"
   ]
  },
  {
   "cell_type": "code",
   "execution_count": 9,
   "id": "recreational-object",
   "metadata": {},
   "outputs": [],
   "source": [
    "feminstitute_query = \"\"\"\n",
    "PREFIX wd: <http://www.wikidata.org/entity/>\n",
    "PREFIX wdt: <http://www.wikidata.org/prop/direct/>\n",
    "PREFIX wikibase: <http://wikiba.se/ontology#>\n",
    "SELECT DISTINCT ?institutionLabel ?countryLabel  (count(?person) as ?totwomen) WHERE {\n",
    "  \n",
    "  ?person wdt:P31 wd:Q5; \n",
    "             wdt:P21 wd:Q6581072;\n",
    "            wdt:P106/wdt:P279* wd:Q1792450;\n",
    "             wdt:P463 ?institution.\n",
    "            ?institution wdt:P17 ?country.\n",
    "    ?country wdt:P297 ?countryCode.\n",
    "  SERVICE wikibase:label { bd:serviceParam wikibase:language \"[AUTO_LANGUAGE],en\". }\n",
    "  \n",
    "}\n",
    "\n",
    "GROUP BY ?institutionLabel  ?countryLabel\n",
    "ORDER BY DESC (?totwomen)\n",
    "\"\"\"\n",
    "\n",
    "\n",
    "maleinstitute_query = \"\"\"\n",
    "PREFIX wd: <http://www.wikidata.org/entity/>\n",
    "PREFIX wdt: <http://www.wikidata.org/prop/direct/>\n",
    "PREFIX wikibase: <http://wikiba.se/ontology#>\n",
    "SELECT DISTINCT ?institutionLabel ?countryLabel  (count(?person) as ?totmen) WHERE {\n",
    "  \n",
    "  ?person wdt:P31 wd:Q5; \n",
    "             wdt:P21 wd:Q6581097;\n",
    "            wdt:P106/wdt:P279* wd:Q1792450;\n",
    "             wdt:P463 ?institution.\n",
    "            ?institution wdt:P17 ?country.\n",
    "    ?country wdt:P297 ?countryCode.\n",
    "  SERVICE wikibase:label { bd:serviceParam wikibase:language \"[AUTO_LANGUAGE],en\". }\n",
    "  \n",
    "}\n",
    "\n",
    "GROUP BY ?institutionLabel  ?countryLabel\n",
    "ORDER BY DESC (?totmen)\n",
    "\"\"\"\n",
    "\n",
    "feminstituteResults = execute_query(feminstitute_query)\n",
    "maleinstituteResults = execute_query(maleinstitute_query)"
   ]
  },
  {
   "cell_type": "code",
   "execution_count": 10,
   "id": "latest-cradle",
   "metadata": {},
   "outputs": [
    {
     "name": "stdout",
     "output_type": "stream",
     "text": [
      "women:\t 33 \n",
      "men:\t 46 \n",
      "union:\t 47\n"
     ]
    },
    {
     "data": {
      "text/plain": [
       "{'Germany': {'women': 96, 'men': 911},\n",
       " 'United States of America': {'women': 80, 'men': 242},\n",
       " 'Spain': {'women': 40, 'men': 182},\n",
       " 'United Kingdom': {'women': 32, 'men': 206},\n",
       " 'France': {'women': 31, 'men': 331},\n",
       " 'Italy': {'women': 22, 'men': 173},\n",
       " 'Sweden': {'women': 16, 'men': 132},\n",
       " 'Austria': {'women': 11, 'men': 122},\n",
       " 'Poland': {'women': 8, 'men': 78},\n",
       " 'Belgium': {'women': 8, 'men': 49}}"
      ]
     },
     "execution_count": 10,
     "metadata": {},
     "output_type": "execute_result"
    },
    {
     "data": {
      "image/png": "[encoded data removed]",
      "text/plain": [
       "<Figure size 432x288 with 1 Axes>"
      ]
     },
     "metadata": {
      "needs_background": "light"
     },
     "output_type": "display_data"
    }
   ],
   "source": [
    "get_women_man_differences(womenResults = feminstituteResults,\n",
    "                          manResults = maleinstituteResults,\n",
    "                          label = \"institutionLabel\")"
   ]
  },
  {
   "cell_type": "markdown",
   "id": "internal-nitrogen",
   "metadata": {},
   "source": [
    "# Place of death"
   ]
  },
  {
   "cell_type": "code",
   "execution_count": 11,
   "id": "therapeutic-celebrity",
   "metadata": {},
   "outputs": [],
   "source": [
    "placeofdeathfem_query = \"\"\"\n",
    "PREFIX wd: <http://www.wikidata.org/entity/>\n",
    "PREFIX wdt: <http://www.wikidata.org/prop/direct/>\n",
    "PREFIX wikibase: <http://wikiba.se/ontology#>\n",
    "SELECT DISTINCT ?placeofdeath ?placeofdeathLabel ?countryLabel (COUNT(?person) AS ?totwomen)\n",
    "WHERE\n",
    "{\n",
    "       ?person wdt:P31 wd:Q5 ;\n",
    "            wdt:P21 wd:Q6581072 ;\n",
    "            wdt:P106/wdt:P279* wd:Q1792450;\n",
    "            wdt:P20 ?placeofdeath;\n",
    "            wdt:P27 ?country.\n",
    "       \n",
    "       SERVICE wikibase:label {bd:serviceParam wikibase:language \"en\" }\n",
    "}\n",
    "GROUP BY ?placeofdeath ?placeofdeathLabel ?countryLabel\n",
    "ORDER BY DESC(?totwomen)\n",
    "\"\"\"\n",
    "\n",
    "placeofdeathman_query = \"\"\"\n",
    "PREFIX wd: <http://www.wikidata.org/entity/>\n",
    "PREFIX wdt: <http://www.wikidata.org/prop/direct/>\n",
    "PREFIX wikibase: <http://wikiba.se/ontology#>\n",
    "SELECT DISTINCT ?placeofdeath ?placeofdeathLabel ?countryLabel (COUNT(?person) AS ?totmen)\n",
    "WHERE\n",
    "{\n",
    "       ?person wdt:P31 wd:Q5 ;\n",
    "            wdt:P21 wd:Q6581097 ;\n",
    "            wdt:P106/wdt:P279* wd:Q1792450;\n",
    "            wdt:P20 ?placeofdeath;\n",
    "            wdt:P27 ?country.\n",
    "       \n",
    "       SERVICE wikibase:label {bd:serviceParam wikibase:language \"en\" }\n",
    "}\n",
    "GROUP BY ?placeofdeath ?placeofdeathLabel ?countryLabel\n",
    "ORDER BY DESC(?totmen)\n",
    "\"\"\"\n",
    "\n",
    "deathfemResults = execute_query(placeofdeathfem_query)\n",
    "deathmanResults = execute_query(placeofdeathman_query)"
   ]
  },
  {
   "cell_type": "code",
   "execution_count": 12,
   "id": "destroyed-burst",
   "metadata": {},
   "outputs": [
    {
     "name": "stdout",
     "output_type": "stream",
     "text": [
      "women:\t 68 \n",
      "men:\t 141 \n",
      "union:\t 148\n"
     ]
    },
    {
     "data": {
      "text/plain": [
       "{'Germany': {'women': 91, 'men': 970},\n",
       " 'United States of America': {'women': 83, 'men': 231},\n",
       " 'Czechoslovakia': {'women': 53, 'men': 202},\n",
       " 'France': {'women': 45, 'men': 454},\n",
       " 'Soviet Union': {'women': 39, 'men': 147},\n",
       " 'Italy': {'women': 37, 'men': 170},\n",
       " 'Austria': {'women': 36, 'men': 185},\n",
       " 'Poland': {'women': 33, 'men': 118},\n",
       " 'Kingdom of Italy': {'women': 31, 'men': 222},\n",
       " 'United Kingdom': {'women': 26, 'men': 143}}"
      ]
     },
     "execution_count": 12,
     "metadata": {},
     "output_type": "execute_result"
    },
    {
     "data": {
      "image/png": "[encoded data removed]",
      "text/plain": [
       "<Figure size 432x288 with 1 Axes>"
      ]
     },
     "metadata": {
      "needs_background": "light"
     },
     "output_type": "display_data"
    }
   ],
   "source": [
    "get_women_man_differences(womenResults = deathfemResults,\n",
    "                          manResults = deathmanResults,\n",
    "                          label = \"placeofdeathLabel\")"
   ]
  },
  {
   "cell_type": "code",
   "execution_count": null,
   "id": "prepared-nylon",
   "metadata": {},
   "outputs": [],
   "source": []
  }
 ],
 "metadata": {
  "kernelspec": {
   "display_name": "Python 3",
   "language": "python",
   "name": "python3"
  },
  "language_info": {
   "codemirror_mode": {
    "name": "ipython",
    "version": 3
   },
   "file_extension": ".py",
   "mimetype": "text/x-python",
   "name": "python",
   "nbconvert_exporter": "python",
   "pygments_lexer": "ipython3",
   "version": "3.8.0"
  }
 },
 "nbformat": 4,
 "nbformat_minor": 5
}
